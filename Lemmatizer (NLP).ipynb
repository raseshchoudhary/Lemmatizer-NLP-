{
 "cells": [
  {
   "cell_type": "markdown",
   "id": "8f49e536",
   "metadata": {},
   "source": [
    "# Question\n",
    "Create a python function that takes a string as an input and returns a string with every word lemmatized as an output. "
   ]
  },
  {
   "cell_type": "code",
   "execution_count": 1,
   "id": "8d388adf",
   "metadata": {},
   "outputs": [],
   "source": [
    "# I am writing some code as hints, feel free to solve it however you want\n",
    "from nltk.stem import WordNetLemmatizer\n",
    "lemmatizer = WordNetLemmatizer()"
   ]
  },
  {
   "cell_type": "code",
   "execution_count": 2,
   "id": "b076abde",
   "metadata": {},
   "outputs": [],
   "source": [
    "import nltk"
   ]
  },
  {
   "cell_type": "code",
   "execution_count": 5,
   "id": "446db4bb",
   "metadata": {},
   "outputs": [],
   "source": [
    "a=('The plural forms of words applies to nouns, determiners, pronouns, and verbs.')"
   ]
  },
  {
   "cell_type": "code",
   "execution_count": 6,
   "id": "2bc43a80",
   "metadata": {},
   "outputs": [],
   "source": [
    "c=nltk.word_tokenize(a)"
   ]
  },
  {
   "cell_type": "code",
   "execution_count": 7,
   "id": "36ca6463",
   "metadata": {},
   "outputs": [
    {
     "name": "stdout",
     "output_type": "stream",
     "text": [
      "The\n",
      "plural\n",
      "form\n",
      "of\n",
      "word\n",
      "applies\n",
      "to\n",
      "noun\n",
      ",\n",
      "determiner\n",
      ",\n",
      "pronoun\n",
      ",\n",
      "and\n",
      "verb\n",
      ".\n"
     ]
    }
   ],
   "source": [
    "for i in c:\n",
    "    if i in c:\n",
    "        print(lemmatizer.lemmatize(i))  "
   ]
  },
  {
   "cell_type": "code",
   "execution_count": 169,
   "id": "5a1df139",
   "metadata": {},
   "outputs": [],
   "source": [
    "# the final code:\n",
    "def my_lemmatizer(a):\n",
    "    c=nltk.word_tokenize(a)\n",
    "    for i in c:\n",
    "        print(lemmatizer.lemmatize(i))\n",
    "        \n"
   ]
  },
  {
   "cell_type": "code",
   "execution_count": 3,
   "id": "a00d1f0e",
   "metadata": {},
   "outputs": [],
   "source": [
    "#The final code using return function:\n",
    "def my_lemmatizer(a):\n",
    "    c=nltk.word_tokenize(a)\n",
    "    my_list=[]\n",
    "    for i in c:\n",
    "        my_list.append(lemmatizer.lemmatize(i))\n",
    "    return my_list"
   ]
  },
  {
   "cell_type": "code",
   "execution_count": 4,
   "id": "7507e595",
   "metadata": {},
   "outputs": [
    {
     "data": {
      "text/plain": [
       "['The',\n",
       " 'plural',\n",
       " 'form',\n",
       " 'of',\n",
       " 'word',\n",
       " 'applies',\n",
       " 'to',\n",
       " 'noun',\n",
       " ',',\n",
       " 'determiner',\n",
       " ',',\n",
       " 'pronoun',\n",
       " ',',\n",
       " 'and',\n",
       " 'verb',\n",
       " '.']"
      ]
     },
     "execution_count": 4,
     "metadata": {},
     "output_type": "execute_result"
    }
   ],
   "source": [
    "my_lemmatizer('The plurals forms of words applies to nouns, determiners, pronouns, and verbs.')"
   ]
  }
 ],
 "metadata": {
  "kernelspec": {
   "display_name": "Python 3 (ipykernel)",
   "language": "python",
   "name": "python3"
  },
  "language_info": {
   "codemirror_mode": {
    "name": "ipython",
    "version": 3
   },
   "file_extension": ".py",
   "mimetype": "text/x-python",
   "name": "python",
   "nbconvert_exporter": "python",
   "pygments_lexer": "ipython3",
   "version": "3.9.13"
  }
 },
 "nbformat": 4,
 "nbformat_minor": 5
}
